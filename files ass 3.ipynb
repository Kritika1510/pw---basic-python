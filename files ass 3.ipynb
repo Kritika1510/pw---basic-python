{
 "cells": [
  {
   "cell_type": "code",
   "execution_count": null,
   "id": "9a6c175f",
   "metadata": {},
   "outputs": [],
   "source": [
    "\n",
    "1.\n",
    "   - Multithreading in Python refers to the ability of a program to execute multiple threads concurrently. It allows the program to perform multiple tasks simultaneously, improving efficiency and responsiveness. The threading module is used to handle threads in Python. It provides a way to create, manipulate, and synchronize threads.\n",
    "   - The threading module is used because it simplifies the process of working with threads in Python by providing a high-level interface.\n",
    "   - Functions:\n",
    "     - `activeCount()`: Returns the number of Thread objects currently alive.\n",
    "     - `currentThread()`: Returns the current Thread object.\n",
    "     - `enumerate()`: Returns a list of all Thread objects currently alive.\n",
    "\n",
    "2. \n",
    "   - `run()`: This method represents the entry point of the thread. It's called when the start() method of the Thread object is called, and it should be overridden in subclasses to define the thread's behavior.\n",
    "   - `start()`: This method starts the execution of the thread by calling the run() method.\n",
    "   - `join()`: This method blocks the calling thread until the thread whose join() method is called completes its execution or until a specified timeout occurs.\n",
    "   - `isAlive()`: This method returns True if the thread is currently executing or alive, and False otherwise.\n",
    "\n",
    "3. \n",
    "   import threading\n",
    "\n",
    "   def print_squares():\n",
    "       for i in range(1, 6):\n",
    "           print(f\"Square of {i}: {i*i}\")\n",
    "\n",
    "   def print_cubes():\n",
    "       for i in range(1, 6):\n",
    "           print(f\"Cube of {i}: {i*i*i}\")\n",
    "\n",
    "   t1 = threading.Thread(target=print_squares)\n",
    "   t2 = threading.Thread(target=print_cubes)\n",
    "\n",
    "   t1.start()\n",
    "   t2.start()\n",
    "\n",
    "   t1.join()\n",
    "   t2.join()\n",
    "   ```\n",
    "\n",
    "4. \n",
    "   - Advantages:\n",
    "     - Improved performance: Multithreading can utilize multiple CPU cores, allowing tasks to be executed concurrently and improving overall performance.\n",
    "     - Responsiveness: Multithreading can enhance the responsiveness of applications by allowing certain tasks to run in the background while others are executed in the foreground.\n",
    "     - Resource sharing: Threads within the same process can share resources such as memory, which can lead to efficient resource utilization.\n",
    "   - Disadvantages:\n",
    "     - Complexity: Multithreaded programs can be complex to design, implement, and debug due to issues such as race conditions and deadlocks.\n",
    "     - Synchronization overhead: Proper synchronization mechanisms must be used to coordinate access to shared resources among threads, which can introduce overhead and potentially degrade performance.\n",
    "     - Difficulty in debugging: Multithreading can introduce non-deterministic behavior, making it challenging to reproduce and debug issues related to thread interactions.\n",
    "\n",
    "5. \n",
    "   - Deadlock: Deadlock occurs when two or more threads are blocked indefinitely, waiting for each other to release resources that they need to proceed. This situation typically arises when multiple threads acquire locks on resources in a different order, leading to a circular dependency where each thread is waiting for a resource held by another thread.\n",
    "   - Race condition: A race condition occurs when the outcome of a program depends on the timing or interleaving of multiple threads executing concurrently. It arises when multiple threads access shared resources without proper synchronization, leading to unpredictable behavior. For example, if two threads try to increment the same variable simultaneously without synchronization, the final value of the variable may be incorrect due to the interleaving of their operations."
   ]
  }
 ],
 "metadata": {
  "kernelspec": {
   "display_name": "Python 3 (ipykernel)",
   "language": "python",
   "name": "python3"
  },
  "language_info": {
   "codemirror_mode": {
    "name": "ipython",
    "version": 3
   },
   "file_extension": ".py",
   "mimetype": "text/x-python",
   "name": "python",
   "nbconvert_exporter": "python",
   "pygments_lexer": "ipython3",
   "version": "3.11.3"
  }
 },
 "nbformat": 4,
 "nbformat_minor": 5
}

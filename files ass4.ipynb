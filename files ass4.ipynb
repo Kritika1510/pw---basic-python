{
 "cells": [
  {
   "cell_type": "code",
   "execution_count": null,
   "id": "fead3f60",
   "metadata": {},
   "outputs": [],
   "source": [
    "\n",
    "\n",
    "1. \n",
    "   - Multiprocessing in Python refers to the ability of a program to create and run multiple processes concurrently. Each process runs independently and has its own memory space, allowing for true parallelism. Multiprocessing is useful for CPU-bound tasks where parallel execution can significantly improve performance by utilizing multiple CPU cores.\n",
    "\n",
    "2. \n",
    "   - Multiprocessing involves the execution of multiple processes concurrently, each with its own memory space, while multithreading involves the execution of multiple threads within the same process, sharing the same memory space.\n",
    "   - Processes in multiprocessing are separate and independent, while threads in multithreading share the same memory space and resources.\n",
    "   - Multiprocessing utilizes multiple CPU cores, providing true parallelism, while multithreading is more suitable for I/O-bound tasks and may not fully utilize multiple CPU cores due to the Global Interpreter Lock (GIL) in Python.\n",
    "\n",
    "3. \n",
    "   import multiprocessing\n",
    "\n",
    "   def my_process():\n",
    "       print(\"Child process executing.\")\n",
    "\n",
    "   if __name__ == \"__main__\":\n",
    "       p = multiprocessing.Process(target=my_process)\n",
    "       p.start()\n",
    "       p.join()\n",
    "   ```\n",
    "\n",
    "4. \n",
    "   - A multiprocessing pool in Python is a convenient way to distribute tasks across multiple processes. It provides a high-level interface for parallel execution of functions or tasks, allowing you to specify the number of worker processes to use. Multiprocessing pools are used to parallelize CPU-bound tasks and improve overall performance.\n",
    "\n",
    "5. \n",
    "   - Here's an example of creating a pool of worker processes using the multiprocessing module:\n",
    "   ```python\n",
    "   import multiprocessing\n",
    "\n",
    "   def worker_task(x):\n",
    "       return x*x\n",
    "\n",
    "   if __name__ == \"__main__\":\n",
    "       with multiprocessing.Pool(processes=4) as pool:\n",
    "           result = pool.map(worker_task, [1, 2, 3, 4, 5])\n",
    "           print(result)\n",
    "   ```\n",
    "\n",
    "6. \n",
    "   import multiprocessing\n",
    "\n",
    "   def print_number(num):\n",
    "       print(f\"Process {num}: {num}\")\n",
    "\n",
    "   if __name__ == \"__main__\":\n",
    "       processes = []\n",
    "       for i in range(1, 5):\n",
    "           p = multiprocessing.Process(target=print_number, args=(i,))\n",
    "           processes.append(p)\n",
    "           p.start()\n",
    "       for p in processes:\n",
    "           p.join()\n",
    "   ```\n",
    "\n"
   ]
  }
 ],
 "metadata": {
  "kernelspec": {
   "display_name": "Python 3 (ipykernel)",
   "language": "python",
   "name": "python3"
  },
  "language_info": {
   "codemirror_mode": {
    "name": "ipython",
    "version": 3
   },
   "file_extension": ".py",
   "mimetype": "text/x-python",
   "name": "python",
   "nbconvert_exporter": "python",
   "pygments_lexer": "ipython3",
   "version": "3.11.3"
  }
 },
 "nbformat": 4,
 "nbformat_minor": 5
}

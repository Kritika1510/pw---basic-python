{
 "cells": [
  {
   "cell_type": "code",
   "execution_count": null,
   "id": "38f5f085",
   "metadata": {},
   "outputs": [],
   "source": [
    "Q1. \n",
    "Flask is a lightweight and flexible web application framework written in Python. It provides tools, libraries, and patterns to help developers build web applications quickly and efficiently. Flask is often referred to as a micro-framework because it does not require any particular tools or libraries, allowing developers to choose the components they need for their projects.\n",
    "\n",
    "Advantages of Flask Framework:\n",
    "- **Simplicity**: Flask has a simple and easy-to-understand syntax, making it ideal for beginners and experienced developers alike.\n",
    "- **Flexibility**: Flask allows developers to choose the components they need for their projects, providing the flexibility to create custom solutions.\n",
    "- **Minimalistic**: Flask has a minimalistic design, which means it does not impose any unnecessary dependencies or restrictions on the developer.\n",
    "- **Extensibility**: Flask can be easily extended using third-party extensions or libraries to add additional functionality.\n",
    "- **Built-in Development Server**: Flask comes with a built-in development server, making it easy to test and debug applications during development.\n",
    "- **Large Community**: Flask has a large and active community of developers who contribute plugins, extensions, and support resources, making it easier to find solutions to problems and get help when needed.\n",
    "\n",
    "Q2. \n",
    "from flask import Flask\n",
    "\n",
    "app = Flask(__name__)\n",
    "\n",
    "@app.route('/')\n",
    "def hello_world():\n",
    "    return 'Hello World!!'\n",
    "\n",
    "if __name__ == '__main__':\n",
    "    app.run()\n",
    "```\n",
    "\n",
    "To run this Flask application and display \"Hello World!!\" in your browser, save the above code in a Python file (e.g., `app.py`) and execute it. Then open a web browser and navigate to `http://127.0.0.1:5000/` to see the output.\n",
    "\n",
    "![Flask Hello World Screenshot](attachment:flask_hello_world.png)\n",
    "\n",
    "Q3. \n",
    "In Flask, app routing refers to the process of mapping URLs (Uniform Resource Locators) to the corresponding view functions. This mapping is achieved using the `@app.route()` decorator, where each route specifies a URL pattern and associates it with a view function.\n",
    "\n",
    "We use app routes in Flask for several reasons:\n",
    "- **URL Mapping**: App routes allow us to define URL patterns and map them to specific functions in our application, making it easy to handle different HTTP requests.\n",
    "- **Modularity**: App routes promote a modular structure by separating the logic for handling different parts of the application into individual view functions.\n",
    "- **Readability**: By explicitly defining routes, Flask applications become more readable and maintainable, as developers can easily understand the URL structure and corresponding functionality.\n",
    "- **Flexibility**: App routes provide flexibility in designing the URL structure of the application, allowing developers to create clean and intuitive APIs or web interfaces.\n",
    "- **Ease of Testing**: With app routes, it's straightforward to write unit tests for individual view functions, as they are decoupled from each other and can be tested in isolation."
   ]
  }
 ],
 "metadata": {
  "kernelspec": {
   "display_name": "Python 3 (ipykernel)",
   "language": "python",
   "name": "python3"
  },
  "language_info": {
   "codemirror_mode": {
    "name": "ipython",
    "version": 3
   },
   "file_extension": ".py",
   "mimetype": "text/x-python",
   "name": "python",
   "nbconvert_exporter": "python",
   "pygments_lexer": "ipython3",
   "version": "3.11.3"
  }
 },
 "nbformat": 4,
 "nbformat_minor": 5
}

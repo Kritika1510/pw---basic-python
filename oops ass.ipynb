{
 "cells": [
  {
   "cell_type": "code",
   "execution_count": 1,
   "id": "17df402f",
   "metadata": {},
   "outputs": [
    {
     "ename": "SyntaxError",
     "evalue": "unterminated string literal (detected at line 23) (2035690918.py, line 23)",
     "output_type": "error",
     "traceback": [
      "\u001b[1;36m  Cell \u001b[1;32mIn[1], line 23\u001b[1;36m\u001b[0m\n\u001b[1;33m    Q3. Multiple inheritance in Python refers to the capability of a class to inherit properties and methods from more than one parent class. Here's a Python code demonstrating multiple inheritance:\u001b[0m\n\u001b[1;37m                                                                                                                                                  ^\u001b[0m\n\u001b[1;31mSyntaxError\u001b[0m\u001b[1;31m:\u001b[0m unterminated string literal (detected at line 23)\n"
     ]
    }
   ],
   "source": [
    "\n",
    "Q1. Creating a vehicle class with an `__init__` method having instance variables:\n",
    "\n",
    "```python\n",
    "class Vehicle:\n",
    "    def __init__(self, name_of_vehicle, max_speed, average_of_vehicle):\n",
    "        self.name_of_vehicle = name_of_vehicle\n",
    "        self.max_speed = max_speed\n",
    "        self.average_of_vehicle = average_of_vehicle\n",
    "```\n",
    "\n",
    "Q2. Creating a child class car from the vehicle class and defining a method named `seating_capacity`:\n",
    "\n",
    "```python\n",
    "class Car(Vehicle):\n",
    "    def seating_capacity(self, capacity):\n",
    "        return f\"The {self.name_of_vehicle} has a seating capacity of {capacity}.\"\n",
    "\n",
    "# Example Usage:\n",
    "car = Car(\"Toyota\", 180, 25)\n",
    "print(car.seating_capacity(5))  # Output: The Toyota has a seating capacity of 5.\n",
    "```\n",
    "\n",
    "Q3. Multiple inheritance in Python refers to the capability of a class to inherit properties and methods from more than one parent class. Here's a Python code demonstrating multiple inheritance:\n",
    "\n",
    "```python\n",
    "class ClassA:\n",
    "    def methodA(self):\n",
    "        print(\"Method A\")\n",
    "\n",
    "class ClassB:\n",
    "    def methodB(self):\n",
    "        print(\"Method B\")\n",
    "\n",
    "class ClassC(ClassA, ClassB):\n",
    "    pass\n",
    "\n",
    "obj = ClassC()\n",
    "obj.methodA()  # Output: Method A\n",
    "obj.methodB()  # Output: Method B\n",
    "```\n",
    "\n",
    "Q4. Getter and setter methods are used to get and set the values of attributes of a class respectively. Here's an example demonstrating getter and setter methods:\n",
    "\n",
    "```python\n",
    "class MyClass:\n",
    "    def __init__(self):\n",
    "        self._value = None\n",
    "\n",
    "    def get_value(self):\n",
    "        return self._value\n",
    "\n",
    "    def set_value(self, value):\n",
    "        self._value = value\n",
    "\n",
    "# Example Usage:\n",
    "obj = MyClass()\n",
    "obj.set_value(10)\n",
    "print(obj.get_value())  # Output: 10\n",
    "```\n",
    "\n",
    "Q5. Method overriding in Python occurs when a subclass provides a specific implementation of a method that is already provided by its parent class. Here's an example demonstrating method overriding:\n",
    "\n",
    "```python\n",
    "class Parent:\n",
    "    def show(self):\n",
    "        print(\"Parent's show method\")\n",
    "\n",
    "class Child(Parent):\n",
    "    def show(self):\n",
    "        print(\"Child's show method\")\n",
    "\n",
    "# Example Usage:\n",
    "child_obj = Child()\n",
    "child_obj.show()  # Output: Child's show method\n",
    "```"
   ]
  },
  {
   "cell_type": "code",
   "execution_count": null,
   "id": "7916068f",
   "metadata": {},
   "outputs": [],
   "source": []
  }
 ],
 "metadata": {
  "kernelspec": {
   "display_name": "Python 3 (ipykernel)",
   "language": "python",
   "name": "python3"
  },
  "language_info": {
   "codemirror_mode": {
    "name": "ipython",
    "version": 3
   },
   "file_extension": ".py",
   "mimetype": "text/x-python",
   "name": "python",
   "nbconvert_exporter": "python",
   "pygments_lexer": "ipython3",
   "version": "3.11.3"
  }
 },
 "nbformat": 4,
 "nbformat_minor": 5
}

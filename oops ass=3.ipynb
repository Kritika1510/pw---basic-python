{
 "cells": [
  {
   "cell_type": "code",
   "execution_count": 2,
   "id": "b49d137e",
   "metadata": {},
   "outputs": [
    {
     "ename": "IndentationError",
     "evalue": "unexpected indent (3712371957.py, line 4)",
     "output_type": "error",
     "traceback": [
      "\u001b[1;36m  Cell \u001b[1;32mIn[2], line 4\u001b[1;36m\u001b[0m\n\u001b[1;33m    Abstraction: It focuses on showing only the essential features and hiding the implementation details. It allows dealing with objects at a higher level of abstraction.\u001b[0m\n\u001b[1;37m    ^\u001b[0m\n\u001b[1;31mIndentationError\u001b[0m\u001b[1;31m:\u001b[0m unexpected indent\n"
     ]
    }
   ],
   "source": [
    "\n",
    "\n",
    "# Q1. Abstraction in OOPs: Abstraction is the concept of hiding the complex implementation details and showing only the essential features of an object. It allows focusing on what an object does rather than how it achieves it. Abstraction can be achieved through abstract classes and interfaces. For example, consider a `Shape` class with a method `calculate_area()`. The specific implementation details of calculating the area might vary for different shapes like a circle, rectangle, or triangle. However, from the perspective of a user, they only need to know that they can calculate the area of any shape using the `calculate_area()` method without worrying about the specific implementation for each shape.\n",
    "\n",
    "#Q2. Diference between Abstraction and Encapsulation:\n",
    "   Abstraction: It focuses on showing only the essential features and hiding the implementation details. It allows dealing with objects at a higher level of abstraction.\n",
    "   Encapsulation: It focuses on bundling the data (attributes) and methods that operate on the data into a single unit (class). It hides the internal state of an object from the outside world and only exposes necessary functionalities through methods.\n",
    "\n",
    "   Example: Consider a `Person` class. Abstraction would involve defining methods like `eat()`, `sleep()`, and `work()`, hiding the internal implementation details of these methods. Encapsulation, on the other hand, would involve bundling the attributes like `name`, `age`, and methods like `set_name()`, `get_age()` within the `Person` class.\n",
    "\n",
    "#Q3. abc module in Python: The `abc` module in Python stands for Abstract Base Classes. It provides a way to define abstract base classes, which are classes that cannot be instantiated themselves but can be subclassed. It is used to enforce a structure or interface that subclasses must adhere to. This helps in achieving abstraction and ensuring that certain methods are implemented by the subclasses.\n",
    "\n",
    "#Q4. Achieving Data Abstraction: Data abstraction can be achieved in Python through the use of abstract classes and interfaces. Abstract classes define methods that must be implemented by their subclasses but may also contain implemented methods. Interfaces, on the other hand, only define the method signatures without any implementation. By defining abstract classes or interfaces, we can hide the internal implementation details and focus on providing a higher level of abstraction.\n",
    "\n",
    "#Q5. Creating an Instance of an Abstract Class: No, we cannot create an instance of an abstract class in Python. Abstract classes are meant to be subclassed, and they typically contain one or more abstract methods that must be implemented by the subclasses. Attempting to instantiate an abstract class directly will result in a `TypeError`. Abstract classes are used as blueprints for creating concrete classes that provide specific implementations for the abstract methods.\n",
    "\n"
   ]
  },
  {
   "cell_type": "code",
   "execution_count": null,
   "id": "8d197d56",
   "metadata": {},
   "outputs": [],
   "source": []
  }
 ],
 "metadata": {
  "kernelspec": {
   "display_name": "Python 3 (ipykernel)",
   "language": "python",
   "name": "python3"
  },
  "language_info": {
   "codemirror_mode": {
    "name": "ipython",
    "version": 3
   },
   "file_extension": ".py",
   "mimetype": "text/x-python",
   "name": "python",
   "nbconvert_exporter": "python",
   "pygments_lexer": "ipython3",
   "version": "3.11.3"
  }
 },
 "nbformat": 4,
 "nbformat_minor": 5
}

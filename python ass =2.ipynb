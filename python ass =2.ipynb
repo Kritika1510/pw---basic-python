{
 "cells": [
  {
   "cell_type": "raw",
   "id": "c7c07b32",
   "metadata": {},
   "source": [
    "\n",
    "\n",
    "ans1. In Python, you can comment code using the `#` symbol for single-line comments and using triple quotes `'''` or `\"\"\"` for multi-line comments.\n",
    "\n",
    "ans2. Variables in Python are used to store data values. You can declare a variable and assign a value to it in a single line like this: `variable_name = value`.\n",
    "\n",
    "ans3. You can convert one data type to another in Python using type conversion functions like `int()`, `float()`, `str()`, etc., or using methods like `list()`, `tuple()`, `set()`, `dict()`.\n",
    "\n",
    "ans 4. To write and execute a Python script from the command line, you create a `.py` file containing your Python code and then execute it using the `python` command followed by the filename. For example, if your file is named `script.py`, you would run `python script.py`.\n",
    "\n",
    "ans5. ```python\n",
    "my_list = [1, 2, 3, 4, 5]\n",
    "sub_list = my_list[1:3]\n",
    "print(sub_list)  # Output: [2, 3]\n",
    "```\n",
    "\n",
    "ans6. In mathematics, a complex number is a number that comprises a real part and an imaginary part. In Python, you can represent a complex number using the syntax `a + bj`, where `a` is the real part, `b` is the imaginary part, and `j` is the imaginary unit.\n",
    "\n",
    "ans 7. ```python\n",
    "age = 25\n",
    "```\n",
    "\n",
    "ans 8. ```python\n",
    "price = 9.99\n",
    "# This variable belongs to the float data type.\n",
    "```\n",
    "\n",
    "ans9. ```python\n",
    "name = \"John Doe\"\n",
    "print(name)\n",
    "```\n",
    "\n",
    "ans 10. ```python\n",
    "string = \"Hello, World!\"\n",
    "substring = string[7:12]\n",
    "print(substring)  # Output: World\n",
    "```\n",
    "\n",
    "ans 11 ```python\n",
    "is_student = False  # Assuming you're not a student\n",
    "```"
   ]
  }
 ],
 "metadata": {
  "kernelspec": {
   "display_name": "Python 3 (ipykernel)",
   "language": "python",
   "name": "python3"
  },
  "language_info": {
   "codemirror_mode": {
    "name": "ipython",
    "version": 3
   },
   "file_extension": ".py",
   "mimetype": "text/x-python",
   "name": "python",
   "nbconvert_exporter": "python",
   "pygments_lexer": "ipython3",
   "version": "3.11.3"
  }
 },
 "nbformat": 4,
 "nbformat_minor": 5
}

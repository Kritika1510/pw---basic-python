{
 "cells": [
  {
   "cell_type": "markdown",
   "id": "8c1c9f3c",
   "metadata": {},
   "source": [
    "#Q1. Create one variable containing following type of data:\n",
    "(i) string\n",
    "(ii) list\n",
    "(iii) float\n",
    "(iv) tuple"
   ]
  },
  {
   "cell_type": "code",
   "execution_count": 1,
   "id": "6588455c",
   "metadata": {},
   "outputs": [],
   "source": [
    "string=\"pool\",\"oops\"\n",
    "list=[1,2,3,4,5]\n",
    "float=9.14\n",
    "tuple=(2,3,4,5,6)"
   ]
  },
  {
   "cell_type": "markdown",
   "id": "2ce0aa98",
   "metadata": {},
   "source": [
    "#Q2. Given are some following variables containing data:\n",
    "(i) var1 = ‘ ‘\n",
    "(ii) var2 = ‘[ DS , ML , Python]’\n",
    "(iii) var3 = [ ‘DS’ , ’ML’ , ‘Python’ ]\n",
    "(iv) var4 = 1."
   ]
  },
  {
   "cell_type": "code",
   "execution_count": 2,
   "id": "c7b2e7f9",
   "metadata": {},
   "outputs": [
    {
     "data": {
      "text/plain": [
       "9.14"
      ]
     },
     "execution_count": 2,
     "metadata": {},
     "output_type": "execute_result"
    }
   ],
   "source": [
    "string\n",
    "string \n",
    "list\n",
    "float"
   ]
  },
  {
   "cell_type": "markdown",
   "id": "7cfac625",
   "metadata": {},
   "source": [
    "#Q3. Explain the use of the following operators using an example:\n",
    "(i) /\n",
    "(ii) %\n",
    "(iii) //\n",
    "(iv) **"
   ]
  },
  {
   "cell_type": "code",
   "execution_count": 3,
   "id": "4e3ddc25",
   "metadata": {},
   "outputs": [
    {
     "ename": "SyntaxError",
     "evalue": "invalid syntax (1264490811.py, line 1)",
     "output_type": "error",
     "traceback": [
      "\u001b[1;36m  Cell \u001b[1;32mIn[3], line 1\u001b[1;36m\u001b[0m\n\u001b[1;33m    :(The, division, operator, is, used, to, divide, one, number, by, another.)\u001b[0m\n\u001b[1;37m    ^\u001b[0m\n\u001b[1;31mSyntaxError\u001b[0m\u001b[1;31m:\u001b[0m invalid syntax\n"
     ]
    }
   ],
   "source": [
    "/: The division operator is used to divide one number by another.\n",
    "# Example of the division operator\n",
    "result = 10 / 2\n",
    "print(result)  # Output: 5.0\n",
    "\n",
    "%: The modulus operator gives the remainder when one number is divided by another.\n",
    "# Example of the modulus operator\n",
    "remainder = 10 % 3\n",
    "print(remainder)  # Output: 1\n",
    "\n",
    "//: The floor division operator divides one number by another and rounds down to the nearest whole number.\n",
    "# Example of the floor division operator\n",
    "result = 10 // 3\n",
    "print(result)  # Output: 3\n",
    "\n",
    "**: The exponentiation operator raises a number to the power of another number.\n",
    "# Example of the exponentiation operator\n",
    "result = 2 ** 3\n",
    "print(result)  # Output: 8"
   ]
  },
  {
   "cell_type": "markdown",
   "id": "fe0ae82d",
   "metadata": {},
   "source": [
    "#Q4. Create a list of length 10 of your choice containing multiple types of data. Using for loop print the\n",
    "#element and its data type."
   ]
  },
  {
   "cell_type": "code",
   "execution_count": 6,
   "id": "2584cc52",
   "metadata": {},
   "outputs": [
    {
     "name": "stdout",
     "output_type": "stream",
     "text": [
      "Element: 10 | Data Type: <class 'int'>\n",
      "Element: 3.14 | Data Type: <class 'float'>\n",
      "Element: Hello | Data Type: <class 'str'>\n",
      "Element: True | Data Type: <class 'bool'>\n",
      "Element: [1, 2, 3] | Data Type: <class 'list'>\n",
      "Element: {'a': 1, 'b': 2} | Data Type: <class 'dict'>\n",
      "Element: (4, 5) | Data Type: <class 'tuple'>\n",
      "Element: None | Data Type: <class 'NoneType'>\n",
      "Element: (5+2j) | Data Type: <class 'complex'>\n",
      "Element: b'binary' | Data Type: <class 'bytes'>\n"
     ]
    }
   ],
   "source": [
    "# Create a list with multiple types of data\n",
    "my_list = [10, 3.14, \"Hello\", True, [1, 2, 3], {'a': 1, 'b': 2}, (4, 5), None, 5+2j, b'binary']\n",
    "\n",
    "# Iterate over the list and print each element along with its data type\n",
    "for element in my_list:\n",
    "    print(\"Element:\", element, \"| Data Type:\", type(element))\n"
   ]
  },
  {
   "cell_type": "markdown",
   "id": "acdc619d",
   "metadata": {},
   "source": [
    "#Q5. Using a while loop, verify if the number A is purely divisible by number B and if so then how many\n",
    "times it can be divisible."
   ]
  },
  {
   "cell_type": "code",
   "execution_count": 7,
   "id": "01151cb7",
   "metadata": {},
   "outputs": [
    {
     "name": "stdout",
     "output_type": "stream",
     "text": [
      "Enter the dividend (A): 4\n",
      "Enter the divisor (B): 6\n",
      "4 is not purely divisible by 6.\n"
     ]
    }
   ],
   "source": [
    "# Define the numbers A and B\n",
    "A = int(input(\"Enter the dividend (A): \"))\n",
    "B = int(input(\"Enter the divisor (B): \"))\n",
    "\n",
    "# Initialize a count variable to keep track of the number of divisions\n",
    "count = 0\n",
    "\n",
    "# Use a while loop to perform division until A is not divisible by B\n",
    "while A % B == 0:\n",
    "    A /= B  # Divide A by B\n",
    "    count += 1  # Increment the count\n",
    "    # If A becomes less than B, break the loop to avoid infinite division\n",
    "    if A < B:\n",
    "        break\n",
    "\n",
    "# Check if A is purely divisible by B\n",
    "if A % B == 0:\n",
    "    print(f\"{A} is purely divisible by {B}.\")\n",
    "    print(f\"It can be divided {count} times.\")\n",
    "else:\n",
    "    print(f\"{A} is not purely divisible by {B}.\")\n"
   ]
  },
  {
   "cell_type": "markdown",
   "id": "d9271712",
   "metadata": {},
   "source": [
    "#Q6. Create a list containing 25 int type data. Using for loop and if-else condition print if the element is\n",
    "divisible by 3 or not."
   ]
  },
  {
   "cell_type": "raw",
   "id": "c536f879",
   "metadata": {},
   "source": [
    "# Create a list containing 25 int type data\n",
    "integer_list = list(range(1, 26))\n",
    "\n",
    "# Using for loop and if-else condition to print if each element is divisible by 3 or not\n",
    "for num in integer_list:\n",
    "    if num % 3 == 0:\n",
    "        print(\"num is divisible by 3\")\n",
    "    else:\n",
    "        print(\"num is not divisible by 3\")\n"
   ]
  },
  {
   "cell_type": "markdown",
   "id": "cce2dae6",
   "metadata": {},
   "source": [
    "#Q7. What do you understand about mutable and immutable data types? Give examples for both showing\n",
    "this property."
   ]
  },
  {
   "cell_type": "raw",
   "id": "c2d13a22",
   "metadata": {},
   "source": [
    "Immutable Data Types:\n",
    "\n",
    "Immutable data types are those whose values cannot be changed after they are created.\n",
    "If you try to modify an immutable object, a new object is created with the modified value.\n",
    "Examples of immutable data types in Python include integers, floats, strings, tuples, and frozensets.\n",
    "\n",
    "# Example of immutable data types\n",
    "# Integer\n",
    "x = 5\n",
    "print(\"Before:\", x)\n",
    "x = 10  # This creates a new integer object with the value 10\n",
    "print(\"After:\", x)\n",
    "\n",
    "# String\n",
    "s = \"Hello\"\n",
    "print(\"Before:\", s)\n",
    "s += \" World\"  # This creates a new string object with the value \"Hello World\"\n",
    "print(\"After:\", s)\n",
    "\n",
    "# Tuple\n",
    "t = (1, 2, 3)\n",
    "print(\"Before:\", t)\n",
    "t += (4, 5)  # This creates a new tuple object with the values (1, 2, 3, 4, 5)\n",
    "print(\"After:\", t)\n",
    "\n",
    "\n",
    "Mutable Data Types:\n",
    "\n",
    "Mutable data types are those whose values can be changed after they are created.\n",
    "If you modify a mutable object, the changes are reflected in the same object.\n",
    "Examples of mutable data types in Python include lists, dictionaries, sets, and byte arrays.\n",
    "\n",
    "# Example of mutable data types\n",
    "# List\n",
    "lst = [1, 2, 3]\n",
    "print(\"Before:\", lst)\n",
    "lst.append(4)  # This modifies the existing list by adding 4 to it\n",
    "print(\"After:\", lst)\n",
    "\n",
    "# Dictionary\n",
    "d = {'a': 1, 'b': 2}\n",
    "print(\"Before:\", d)\n",
    "d['c'] = 3  # This modifies the existing dictionary by adding a new key-value pair\n",
    "print(\"After:\", d)\n",
    "\n",
    "# Set\n",
    "s = {1, 2, 3}\n",
    "print(\"Before:\", s)\n",
    "s.add(4)  # This modifies the existing set by adding 4 to it\n",
    "print(\"After:\", s)"
   ]
  },
  {
   "cell_type": "code",
   "execution_count": null,
   "id": "849ff58c",
   "metadata": {},
   "outputs": [],
   "source": []
  }
 ],
 "metadata": {
  "kernelspec": {
   "display_name": "Python 3 (ipykernel)",
   "language": "python",
   "name": "python3"
  },
  "language_info": {
   "codemirror_mode": {
    "name": "ipython",
    "version": 3
   },
   "file_extension": ".py",
   "mimetype": "text/x-python",
   "name": "python",
   "nbconvert_exporter": "python",
   "pygments_lexer": "ipython3",
   "version": "3.11.3"
  }
 },
 "nbformat": 4,
 "nbformat_minor": 5
}
